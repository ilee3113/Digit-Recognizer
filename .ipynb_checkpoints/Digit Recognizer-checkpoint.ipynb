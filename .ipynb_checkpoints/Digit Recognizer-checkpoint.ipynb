{
 "cells": [
  {
   "cell_type": "markdown",
   "metadata": {},
   "source": [
    "# Digit Recognizer\n",
    "\n",
    "By: Peter Lee"
   ]
  },
  {
   "cell_type": "code",
   "execution_count": 1,
   "metadata": {},
   "outputs": [
    {
     "name": "stderr",
     "output_type": "stream",
     "text": [
      "Using TensorFlow backend.\n"
     ]
    }
   ],
   "source": [
    "import matplotlib.pyplot as plt\n",
    "from sklearn.model_selection import train_test_split\n",
    "from sklearn.preprocessing import StandardScaler\n",
    "\n",
    "from keras.models import Sequential\n",
    "from keras.layers import Dense\n",
    "from keras.utils import to_categorical\n",
    "from keras.layers import Dropout\n",
    "from keras import regularizers\n",
    "from keras.layers import MaxPooling2D\n",
    "from keras.optimizers import Adam\n",
    "from keras.callbacks import EarlyStopping\n",
    "from keras.layers import Convolution1D, MaxPooling1D\n",
    "from keras.layers.normalization import BatchNormalization\n",
    "from keras.layers.advanced_activations import *\n",
    "from keras.layers import Convolution2D, MaxPooling2D\n",
    "\n",
    "import numpy as np\n",
    "np.random.seed(123)  # for reproducibility\n",
    "\n",
    "from keras.models import Sequential\n",
    "from keras.layers import Dense, Dropout, Activation, Flatten\n",
    "from keras.layers import Convolution2D, MaxPooling2D\n",
    "from keras.datasets import mnist\n",
    "\n",
    "import pandas as pd\n",
    "%matplotlib inline"
   ]
  },
  {
   "cell_type": "code",
   "execution_count": 2,
   "metadata": {
    "collapsed": true
   },
   "outputs": [],
   "source": [
    "train_data = pd.read_csv('./data/train.csv')\n",
    "X = train_data.drop('label', axis=1)\n",
    "y = train_data['label']\n",
    "\n",
    "X_train, X_test, y_train, y_test = train_test_split(X,y)\n",
    "\n",
    "\n",
    "X_train /= 255\n",
    "X_test /= 255\n",
    "\n",
    "Y_train = to_categorical(y_train, 10)\n",
    "Y_test = to_categorical(y_test, 10)\n",
    "\n",
    "X_train = X_train.values.reshape(-1,28,28,1)\n",
    "X_test = X_test.values.reshape(-1,28,28,1)"
   ]
  },
  {
   "cell_type": "code",
   "execution_count": 25,
   "metadata": {},
   "outputs": [
    {
     "data": {
      "image/png": "[encoded data removed]",
      "text/plain": [
       "<matplotlib.figure.Figure at 0x1a44682ba8>"
      ]
     },
     "metadata": {},
     "output_type": "display_data"
    }
   ],
   "source": [
    "plt.subplots(figsize=(20,3))\n",
    "for n in range(1,10):\n",
    "    plt.subplot(1,10,n)\n",
    "    plt.imshow(X.iloc[n].values.reshape((28,28)),cmap='gray')\n",
    "    plt.axis(\"off\")\n",
    "    plt.title(y.iloc[n])"
   ]
  },
  {
   "cell_type": "code",
   "execution_count": 5,
   "metadata": {},
   "outputs": [
    {
     "name": "stdout",
     "output_type": "stream",
     "text": [
      "Train on 31500 samples, validate on 10500 samples\n",
      "Epoch 1/15\n",
      "31500/31500 [==============================] - 49s 2ms/step - loss: 0.3783 - acc: 0.8767 - val_loss: 0.0743 - val_acc: 0.9778\n",
      "Epoch 2/15\n",
      "31500/31500 [==============================] - 47s 1ms/step - loss: 0.1163 - acc: 0.9650 - val_loss: 0.0557 - val_acc: 0.9836\n",
      "Epoch 3/15\n",
      "31500/31500 [==============================] - 44s 1ms/step - loss: 0.0866 - acc: 0.9737 - val_loss: 0.0424 - val_acc: 0.9869\n",
      "Epoch 4/15\n",
      "31500/31500 [==============================] - 45s 1ms/step - loss: 0.0710 - acc: 0.9777 - val_loss: 0.0386 - val_acc: 0.9873\n",
      "Epoch 5/15\n",
      "31500/31500 [==============================] - 46s 1ms/step - loss: 0.0640 - acc: 0.9796 - val_loss: 0.0357 - val_acc: 0.9891\n",
      "Epoch 6/15\n",
      "31500/31500 [==============================] - 46s 1ms/step - loss: 0.0570 - acc: 0.9827 - val_loss: 0.0363 - val_acc: 0.9880\n",
      "Epoch 7/15\n",
      "31500/31500 [==============================] - 45s 1ms/step - loss: 0.0484 - acc: 0.9837 - val_loss: 0.0288 - val_acc: 0.9911\n",
      "Epoch 8/15\n",
      "31500/31500 [==============================] - 46s 1ms/step - loss: 0.0511 - acc: 0.9843 - val_loss: 0.0268 - val_acc: 0.9912\n",
      "Epoch 9/15\n",
      "31500/31500 [==============================] - 46s 1ms/step - loss: 0.0447 - acc: 0.9858 - val_loss: 0.0303 - val_acc: 0.9912\n",
      "Epoch 10/15\n",
      "31500/31500 [==============================] - 47s 1ms/step - loss: 0.0450 - acc: 0.9865 - val_loss: 0.0277 - val_acc: 0.9914\n",
      "Epoch 11/15\n",
      "31500/31500 [==============================] - 47s 1ms/step - loss: 0.0422 - acc: 0.9872 - val_loss: 0.0309 - val_acc: 0.9904\n",
      "Epoch 12/15\n",
      "31500/31500 [==============================] - 47s 1ms/step - loss: 0.0418 - acc: 0.9880 - val_loss: 0.0308 - val_acc: 0.9908\n",
      "Epoch 13/15\n",
      "31500/31500 [==============================] - 47s 1ms/step - loss: 0.0370 - acc: 0.9888 - val_loss: 0.0307 - val_acc: 0.9914\n",
      "Epoch 14/15\n",
      "31500/31500 [==============================] - 56s 2ms/step - loss: 0.0376 - acc: 0.9882 - val_loss: 0.0331 - val_acc: 0.9907\n",
      "Epoch 15/15\n",
      "31500/31500 [==============================] - 47s 1ms/step - loss: 0.0356 - acc: 0.9886 - val_loss: 0.0332 - val_acc: 0.9911\n"
     ]
    }
   ],
   "source": [
    "model = Sequential()\n",
    "\n",
    "model.add(Convolution2D(filters = 32, kernel_size = (3,3),padding = 'Same', \n",
    "                        activation ='relu', input_shape = (28,28,1)))\n",
    "model.add(MaxPooling2D(pool_size=(2,2)))\n",
    "model.add(Dropout(0.25))\n",
    "model.add(Convolution2D(filters = 32, kernel_size = (5,5),padding = 'Same', \n",
    "                        activation ='relu'))\n",
    "model.add(MaxPooling2D(pool_size=(2,2)))\n",
    "model.add(Dropout(0.25))\n",
    "\n",
    "\n",
    "\n",
    "model.add(Convolution2D(filters = 64, kernel_size = (3,3),padding = 'Same', \n",
    "                        activation ='relu'))\n",
    "model.add(MaxPooling2D(pool_size=(2,2), strides=(2,2)))\n",
    "model.add(Dropout(0.25))\n",
    "\n",
    "model.add(Flatten())\n",
    "model.add(Dense(256, activation = \"relu\"))\n",
    "model.add(Dropout(0.5))\n",
    "model.add(Dense(10, activation = \"softmax\"))\n",
    "\n",
    "model.compile(loss='categorical_crossentropy', \n",
    "              optimizer='adam', \n",
    "              metrics=['accuracy'])\n",
    "\n",
    "history = model.fit(X_train, Y_train, \n",
    "                    validation_data=(X_test, Y_test), \n",
    "                    epochs=15, \n",
    "                    verbose=1)"
   ]
  },
  {
   "cell_type": "code",
   "execution_count": null,
   "metadata": {
    "collapsed": true
   },
   "outputs": [],
   "source": []
  }
 ],
 "metadata": {
  "kernelspec": {
   "display_name": "Python [conda env:tensorflow]",
   "language": "python",
   "name": "conda-env-tensorflow-py"
  },
  "language_info": {
   "codemirror_mode": {
    "name": "ipython",
    "version": 3
   },
   "file_extension": ".py",
   "mimetype": "text/x-python",
   "name": "python",
   "nbconvert_exporter": "python",
   "pygments_lexer": "ipython3",
   "version": "3.6.4"
  }
 },
 "nbformat": 4,
 "nbformat_minor": 2
}
