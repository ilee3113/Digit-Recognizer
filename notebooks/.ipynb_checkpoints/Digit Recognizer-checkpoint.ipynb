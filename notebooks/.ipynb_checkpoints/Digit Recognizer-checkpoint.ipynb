{
 "cells": [
  {
   "cell_type": "markdown",
   "metadata": {},
   "source": [
    "# Digit Recognizer\n",
    "\n",
    "By: Peter Lee"
   ]
  },
  {
   "cell_type": "markdown",
   "metadata": {},
   "source": [
    "Imports needed for this project"
   ]
  },
  {
   "cell_type": "code",
   "execution_count": 1,
   "metadata": {},
   "outputs": [
    {
     "name": "stderr",
     "output_type": "stream",
     "text": [
      "Using TensorFlow backend.\n"
     ]
    }
   ],
   "source": [
    "import matplotlib.pyplot as plt\n",
    "from sklearn.model_selection import train_test_split\n",
    "\n",
    "from keras.models import Sequential\n",
    "from keras.layers import Dense\n",
    "from keras.utils import to_categorical\n",
    "from keras.layers import Dropout\n",
    "from keras import regularizers\n",
    "from keras.layers.advanced_activations import *\n",
    "from keras.layers import Convolution2D, MaxPooling2D\n",
    "from keras.layers import Flatten\n",
    "\n",
    "import numpy as np\n",
    "np.random.seed(123)  # for reproducibility\n",
    "\n",
    "from keras.layers import Flatten\n",
    "\n",
    "\n",
    "import pandas as pd\n",
    "%matplotlib inline"
   ]
  },
  {
   "cell_type": "markdown",
   "metadata": {},
   "source": [
    "### Loading the training data"
   ]
  },
  {
   "cell_type": "code",
   "execution_count": 2,
   "metadata": {},
   "outputs": [],
   "source": [
    "train_data = pd.read_csv('../data/train.csv') # loading in the training data as a dataframe\n",
    "X = train_data.drop('label', axis=1) # Removing the target variable\n",
    "y = train_data['label'] # Setting the target variable\n",
    "\n",
    "X_train, X_test, y_train, y_test = train_test_split(X,y) # Creating a test and train set - This is needed for NN training below.\n",
    "\n",
    "# Normalize the data to help things run more efficiently\n",
    "X_train /= 255\n",
    "X_test /= 255\n",
    "\n",
    "# As there are 10 classes, changing the target to a single vector\n",
    "Y_train = to_categorical(y_train, 10)\n",
    "Y_test = to_categorical(y_test, 10)\n",
    "\n",
    "X_train = X_train.values.reshape(-1,28,28,1)\n",
    "X_test = X_test.values.reshape(-1,28,28,1)"
   ]
  },
  {
   "cell_type": "markdown",
   "metadata": {},
   "source": [
    "The training data contains hand drawn images that are 28 pixels in height and 28 pixels in width, for a total of 784 pixels in total. Each pixel has a value associated with it to indicate darkness of that pixel. The pixel-values are integers between 0 and 255, inclusive."
   ]
  },
  {
   "cell_type": "code",
   "execution_count": 3,
   "metadata": {},
   "outputs": [
    {
     "data": {
      "image/png": "[encoded data removed]",
      "text/plain": [
       "<matplotlib.figure.Figure at 0x1a1fe58cc0>"
      ]
     },
     "metadata": {},
     "output_type": "display_data"
    }
   ],
   "source": [
    "plt.subplots(figsize=(20,3))\n",
    "for n in range(1,10):\n",
    "    plt.subplot(1,10,n)\n",
    "    plt.imshow(X.loc[n].values.reshape((28,28)),cmap='gray')\n",
    "    plt.axis(\"off\")\n",
    "    plt.title(y.loc[n])\n",
    "    \n",
    "plt.savefig('../images/printout.png')"
   ]
  },
  {
   "cell_type": "code",
   "execution_count": 4,
   "metadata": {},
   "outputs": [
    {
     "name": "stdout",
     "output_type": "stream",
     "text": [
      "Train on 31500 samples, validate on 10500 samples\n",
      "Epoch 1/15\n",
      "31500/31500 [==============================] - 49s 2ms/step - loss: 0.3888 - acc: 0.8713 - val_loss: 0.0799 - val_acc: 0.9758\n",
      "Epoch 2/15\n",
      "31500/31500 [==============================] - 48s 2ms/step - loss: 0.1178 - acc: 0.9633 - val_loss: 0.0488 - val_acc: 0.9850\n",
      "Epoch 3/15\n",
      "31500/31500 [==============================] - 54s 2ms/step - loss: 0.0890 - acc: 0.9724 - val_loss: 0.0489 - val_acc: 0.9858\n",
      "Epoch 4/15\n",
      "31500/31500 [==============================] - 52s 2ms/step - loss: 0.0761 - acc: 0.9763 - val_loss: 0.0402 - val_acc: 0.9884\n",
      "Epoch 5/15\n",
      "31500/31500 [==============================] - 46s 1ms/step - loss: 0.0667 - acc: 0.9798 - val_loss: 0.0347 - val_acc: 0.9902\n",
      "Epoch 6/15\n",
      "31500/31500 [==============================] - 44s 1ms/step - loss: 0.0603 - acc: 0.9814 - val_loss: 0.0306 - val_acc: 0.9904\n",
      "Epoch 7/15\n",
      "31500/31500 [==============================] - 44s 1ms/step - loss: 0.0508 - acc: 0.9838 - val_loss: 0.0319 - val_acc: 0.9898\n",
      "Epoch 8/15\n",
      "31500/31500 [==============================] - 45s 1ms/step - loss: 0.0527 - acc: 0.9842 - val_loss: 0.0372 - val_acc: 0.9888\n",
      "Epoch 9/15\n",
      "31500/31500 [==============================] - 45s 1ms/step - loss: 0.0485 - acc: 0.9847 - val_loss: 0.0331 - val_acc: 0.9896\n",
      "Epoch 10/15\n",
      "31500/31500 [==============================] - 45s 1ms/step - loss: 0.0463 - acc: 0.9851 - val_loss: 0.0288 - val_acc: 0.9922\n",
      "Epoch 11/15\n",
      "31500/31500 [==============================] - 44s 1ms/step - loss: 0.0445 - acc: 0.9856 - val_loss: 0.0274 - val_acc: 0.9919\n",
      "Epoch 12/15\n",
      "31500/31500 [==============================] - 44s 1ms/step - loss: 0.0413 - acc: 0.9878 - val_loss: 0.0288 - val_acc: 0.9915\n",
      "Epoch 13/15\n",
      "31500/31500 [==============================] - 44s 1ms/step - loss: 0.0410 - acc: 0.9875 - val_loss: 0.0283 - val_acc: 0.9916\n",
      "Epoch 14/15\n",
      "31500/31500 [==============================] - 44s 1ms/step - loss: 0.0383 - acc: 0.9876 - val_loss: 0.0289 - val_acc: 0.9919\n",
      "Epoch 15/15\n",
      "31500/31500 [==============================] - 44s 1ms/step - loss: 0.0417 - acc: 0.9876 - val_loss: 0.0283 - val_acc: 0.9915\n"
     ]
    }
   ],
   "source": [
    "model = Sequential()\n",
    "\n",
    "model.add(Convolution2D(filters = 32, kernel_size = (3,3),padding = 'Same', \n",
    "                        activation ='relu', input_shape = (28,28,1)))\n",
    "model.add(MaxPooling2D(pool_size=(2,2)))\n",
    "model.add(Dropout(0.25))\n",
    "model.add(Convolution2D(filters = 32, kernel_size = (5,5),padding = 'Same', \n",
    "                        activation ='relu'))\n",
    "model.add(MaxPooling2D(pool_size=(2,2)))\n",
    "model.add(Dropout(0.25))\n",
    "\n",
    "\n",
    "\n",
    "model.add(Convolution2D(filters = 64, kernel_size = (3,3),padding = 'Same', \n",
    "                        activation ='relu'))\n",
    "model.add(MaxPooling2D(pool_size=(2,2), strides=(2,2)))\n",
    "model.add(Dropout(0.25))\n",
    "\n",
    "model.add(Flatten())\n",
    "model.add(Dense(256, activation = \"relu\"))\n",
    "model.add(Dropout(0.5))\n",
    "model.add(Dense(10, activation = \"softmax\"))\n",
    "\n",
    "model.compile(loss='categorical_crossentropy', \n",
    "              optimizer='adam', \n",
    "              metrics=['accuracy'])\n",
    "\n",
    "history = model.fit(X_train, Y_train, \n",
    "                    validation_data=(X_test, Y_test), \n",
    "                    epochs=15, \n",
    "                    verbose=1)"
   ]
  },
  {
   "cell_type": "code",
   "execution_count": 9,
   "metadata": {},
   "outputs": [
    {
     "data": {
      "image/png": "[encoded data removed]",
      "text/plain": [
       "<matplotlib.figure.Figure at 0x1a4d5f2dd8>"
      ]
     },
     "metadata": {},
     "output_type": "display_data"
    }
   ],
   "source": [
    "plt.plot(history.history['loss'], label='Training loss')\n",
    "plt.plot(history.history['val_loss'], label='Test loss')\n",
    "plt.legend();\n",
    "plt.title('Loss Optimization');\n",
    "plt.savefig('../images/loss.png')"
   ]
  },
  {
   "cell_type": "code",
   "execution_count": 10,
   "metadata": {},
   "outputs": [
    {
     "data": {
      "image/png": "[encoded data removed]",
      "text/plain": [
       "<matplotlib.figure.Figure at 0x1a4d62a630>"
      ]
     },
     "metadata": {},
     "output_type": "display_data"
    }
   ],
   "source": [
    "plt.plot(history.history['acc'], label='Training acc')\n",
    "plt.plot(history.history['val_acc'], label='Test acc')\n",
    "plt.legend();\n",
    "plt.title('Accuracy of Model');\n",
    "plt.savefig('../images/accuracy.png')"
   ]
  },
  {
   "cell_type": "markdown",
   "metadata": {},
   "source": [
    "### Creating a submission file"
   ]
  },
  {
   "cell_type": "code",
   "execution_count": 7,
   "metadata": {},
   "outputs": [],
   "source": [
    "# loading in test data to make predictions\n",
    "test_data = pd.read_csv('../data/test.csv')\n",
    "X_preds = test_data / 255\n",
    "X_preds = X_preds.values.reshape(-1,28,28,1)"
   ]
  },
  {
   "cell_type": "code",
   "execution_count": 8,
   "metadata": {
    "collapsed": true
   },
   "outputs": [],
   "source": [
    "# creating the submission file for the test predictions\n",
    "df = pd.DataFrame({'ImageId': list(range(1,28001)),'Label':model.predict_classes(X_preds)})\n",
    "df.to_csv('../submissions/Digit_Recognizer.csv', index=False)"
   ]
  }
 ],
 "metadata": {
  "kernelspec": {
   "display_name": "Python [conda env:tensorflow]",
   "language": "python",
   "name": "conda-env-tensorflow-py"
  },
  "language_info": {
   "codemirror_mode": {
    "name": "ipython",
    "version": 3
   },
   "file_extension": ".py",
   "mimetype": "text/x-python",
   "name": "python",
   "nbconvert_exporter": "python",
   "pygments_lexer": "ipython3",
   "version": "3.6.4"
  }
 },
 "nbformat": 4,
 "nbformat_minor": 2
}
